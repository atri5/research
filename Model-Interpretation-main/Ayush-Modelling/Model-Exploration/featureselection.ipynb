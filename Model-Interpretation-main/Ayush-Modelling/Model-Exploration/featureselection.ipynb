{
 "cells": [
  {
   "cell_type": "code",
   "execution_count": 10,
   "metadata": {},
   "outputs": [],
   "source": [
    "import matplotlib.pyplot as plt\n",
    "import pandas as pd\n",
    "import seaborn as sns\n",
    "import category_encoders as ce\n",
    "from sklearn.preprocessing import OneHotEncoder\n"
   ]
  },
  {
   "cell_type": "code",
   "execution_count": 20,
   "metadata": {},
   "outputs": [
    {
     "name": "stderr",
     "output_type": "stream",
     "text": [
      "C:\\Users\\atrip\\AppData\\Local\\Temp\\ipykernel_33028\\2296518444.py:4: DtypeWarning: Columns (16,17,19,20,24,25,26,27,29,31,32,33,34) have mixed types. Specify dtype option on import or set low_memory=False.\n",
      "  df = pd.read_csv(file)\n"
     ]
    },
    {
     "name": "stdout",
     "output_type": "stream",
     "text": [
      "Index(['SubjectID', 'IRB', 'Instrument', 'PrimaryAnatomy',\n",
      "       'Patient_LevelInclude_Exclude', 'Setup', 'Age', 'Sex', 'Ethnicity',\n",
      "       'Race',\n",
      "       ...\n",
      "       'Phasor_SH3_ch2_1', 'Phasor_GH1_ch3_1', 'Phasor_SH1_ch3_1',\n",
      "       'Phasor_GH2_ch3_1', 'Phasor_SH2_ch3_1', 'Phasor_GH3_ch3_1',\n",
      "       'Phasor_SH3_ch3_1', 'Tob_label', 'Alc_label', 'ML_label'],\n",
      "      dtype='object', length=125)\n"
     ]
    }
   ],
   "source": [
    "#change dir here(use ml_labelled files)\n",
    "file = r'C:\\Users\\atrip\\Research\\Model-Interpretation-main\\Data\\ml_labelled_HN_P2C_20241212.csv'\n",
    "\n",
    "df = pd.read_csv(file)\n",
    "print(df.columns)\n",
    "# selected_columns = ['Tob_label', 'Alc_label', 'HPVstatus', 'ML_label']\n",
    "# data = df[selected_columns]"
   ]
  },
  {
   "cell_type": "code",
   "execution_count": 18,
   "metadata": {},
   "outputs": [
    {
     "name": "stdout",
     "output_type": "stream",
     "text": [
      "['SubjectID', 'IRB', 'Instrument', 'PrimaryAnatomy', 'Patient_LevelInclude_Exclude', 'Setup', 'Age', 'Sex', 'Ethnicity', 'Race', 'HighestDiagnosisLevel', 'HPVStatus', 'TobaccoUse', 'SmokelessTobaccoUse', 'AlcoholUse', 'OccultPrimaryTumor', 'TumorFocality', 'GrossTumorSize_GreatestDimensionInCentimeters_', 'TumorDepthOfInvasion_DOI__mm_', 'Margins_DistanceFromClosestMargin_mm_', 'StandardUptakeValue_SUV_FromPET_CT', 'NumberOfLymphNodesExamined', 'NumberOfInvolvedLymphNodes', 'SizeOfLargestMetastaticDeposit_cm_', 'LateralityOfLymphNodesInvolved', 'PrimaryTumor_pT_', 'RegionalLymphNodes_pN_', 'TNMDescriptors', 'Chemo_RadiationTherapy', 'AfterSurgery', 'Recurrence', 'Local_days_', 'Regional_days_', 'Distant_days_', 'Death_days_', 'Surgeon', 'Comments_', 'x1', 'Run', 'ScanContext', 'DataChannelsUsed', 'indices_1', 'lifet_avg_ch1_1', 'lifet_avg_ch2_1', 'lifet_avg_ch3_1', 'spec_int_ch1_1', 'spec_int_ch2_1', 'spec_int_ch3_1', 'int_ratio_ch1_1', 'int_ratio_ch2_1', 'int_ratio_ch3_1', 'Laguerre_coeffs_ch1_1', 'Laguerre_coeffs_ch1_2', 'Laguerre_coeffs_ch1_3', 'Laguerre_coeffs_ch1_4', 'Laguerre_coeffs_ch1_5', 'Laguerre_coeffs_ch1_6', 'Laguerre_coeffs_ch1_7', 'Laguerre_coeffs_ch1_8', 'Laguerre_coeffs_ch1_9', 'Laguerre_coeffs_ch1_10', 'Laguerre_coeffs_ch1_11', 'Laguerre_coeffs_ch1_12', 'Laguerre_coeffs_ch2_1', 'Laguerre_coeffs_ch2_2', 'Laguerre_coeffs_ch2_3', 'Laguerre_coeffs_ch2_4', 'Laguerre_coeffs_ch2_5', 'Laguerre_coeffs_ch2_6', 'Laguerre_coeffs_ch2_7', 'Laguerre_coeffs_ch2_8', 'Laguerre_coeffs_ch2_9', 'Laguerre_coeffs_ch2_10', 'Laguerre_coeffs_ch2_11', 'Laguerre_coeffs_ch2_12', 'Laguerre_coeffs_ch3_1', 'Laguerre_coeffs_ch3_2', 'Laguerre_coeffs_ch3_3', 'Laguerre_coeffs_ch3_4', 'Laguerre_coeffs_ch3_5', 'Laguerre_coeffs_ch3_6', 'Laguerre_coeffs_ch3_7', 'Laguerre_coeffs_ch3_8', 'Laguerre_coeffs_ch3_9', 'Laguerre_coeffs_ch3_10', 'Laguerre_coeffs_ch3_11', 'Laguerre_coeffs_ch3_12', 'snr_ch1_1', 'snr_ch2_1', 'snr_ch3_1', 'gain_ch1_1', 'gain_ch2_1', 'gain_ch3_1', 'Chi2_ch1_1', 'Chi2_ch2_1', 'Chi2_ch3_1', 'WLI_1', 'WLI_2', 'WLI_3', 'WLI_4', 'AnnotationFile', 'RefrenceWLI', 'error', 'error_line', 'Phasor_GH1_ch1_1', 'Phasor_SH1_ch1_1', 'Phasor_GH2_ch1_1', 'Phasor_SH2_ch1_1', 'Phasor_GH3_ch1_1', 'Phasor_SH3_ch1_1', 'Phasor_GH1_ch2_1', 'Phasor_SH1_ch2_1', 'Phasor_GH2_ch2_1', 'Phasor_SH2_ch2_1', 'Phasor_GH3_ch2_1', 'Phasor_SH3_ch2_1', 'Phasor_GH1_ch3_1', 'Phasor_SH1_ch3_1', 'Phasor_GH2_ch3_1', 'Phasor_SH2_ch3_1', 'Phasor_GH3_ch3_1', 'Phasor_SH3_ch3_1', 'Tob_label', 'Alc_label', 'ML_label']\n"
     ]
    }
   ],
   "source": [
    "print(list(df.columns))"
   ]
  },
  {
   "cell_type": "code",
   "execution_count": 21,
   "metadata": {},
   "outputs": [
    {
     "name": "stdout",
     "output_type": "stream",
     "text": [
      "['Healthy', 'Cancer', 'Ignore']\n"
     ]
    }
   ],
   "source": [
    "#checks for unique values in a column, used for additional data filtration\n",
    "print(list(df['ML_label'].unique()))"
   ]
  },
  {
   "cell_type": "code",
   "execution_count": 22,
   "metadata": {},
   "outputs": [],
   "source": [
    "#additional filtering, removes tags and other data that is not important. \n",
    "\n",
    "'''notes:\n",
    "\n",
    "1) remove run, ReferenceWLI and AnnotationFile?\n",
    "2) Removed 'Comments_', has no real impact on data prediction\n",
    "3) Removed Surgeon, does not have impact on study \n",
    "\n",
    "'''\n",
    "df = df.drop(['Instrument', 'SubjectID','error_line','error','IRB','x1','Comments_', 'Surgeon', 'Patient_LevelInclude_Exclude','Run','DataChannelsUsed', 'StandardUptakeValue_SUV_FromPET_CT'], axis=1)\n",
    "\n",
    "\n",
    "#remove all datapoints with the labelling of 'ignore'\n",
    "\n",
    "df = df[df['ML_label'] != 'Ignore']"
   ]
  },
  {
   "cell_type": "code",
   "execution_count": 23,
   "metadata": {},
   "outputs": [
    {
     "name": "stdout",
     "output_type": "stream",
     "text": [
      "['Healthy' 'Cancer']\n"
     ]
    }
   ],
   "source": [
    "\n",
    "print(df['ML_label'].unique())"
   ]
  },
  {
   "cell_type": "code",
   "execution_count": 24,
   "metadata": {},
   "outputs": [
    {
     "name": "stdout",
     "output_type": "stream",
     "text": [
      "['PrimaryAnatomy', 'Setup', 'Sex', 'Ethnicity', 'Race', 'HighestDiagnosisLevel', 'HPVStatus', 'TobaccoUse', 'SmokelessTobaccoUse', 'AlcoholUse', 'OccultPrimaryTumor', 'TumorFocality', 'GrossTumorSize_GreatestDimensionInCentimeters_', 'Margins_DistanceFromClosestMargin_mm_', 'LateralityOfLymphNodesInvolved', 'PrimaryTumor_pT_', 'RegionalLymphNodes_pN_', 'TNMDescriptors', 'Chemo_RadiationTherapy', 'AfterSurgery', 'Recurrence', 'Local_days_', 'Regional_days_', 'Distant_days_', 'Death_days_', 'ScanContext', 'AnnotationFile', 'RefrenceWLI', 'Tob_label', 'Alc_label', 'ML_label']\n"
     ]
    }
   ],
   "source": [
    "categorical_columns = df.select_dtypes(include=['object']).columns.tolist()\n",
    "print(categorical_columns)\n",
    "df_encoded = df.drop(categorical_columns, axis=1)"
   ]
  },
  {
   "cell_type": "code",
   "execution_count": 25,
   "metadata": {},
   "outputs": [],
   "source": [
    "# # #ENCODING\n",
    "# # '''Temporarily using One-Hot, will be computationally expensive, but initial testing'''\n",
    "\n",
    "categorical_columns = ['Sex','Race','HighestDiagnosisLevel','HPVStatus','TobaccoUse', 'AlcoholUse','Tob_label','Alc_label','ML_label']\n",
    "\n",
    "categorical_columns2 = df.select_dtypes(include=['object']).columns.tolist()\n",
    "# print(categorical_columns)\n",
    "\n",
    "\n",
    "encoder = OneHotEncoder(sparse_output=False)\n",
    "one_hot_encoded = encoder.fit_transform(df[categorical_columns])\n",
    "one_hot_df = pd.DataFrame(one_hot_encoded, columns=encoder.get_feature_names_out(categorical_columns))\n",
    "\n",
    "# Concatenate the one-hot encoded dataframe with the original dataframe\n",
    "df_encoded = pd.concat([df, one_hot_df], axis=1)\n",
    "\n",
    "# Drop the original categorical columns\n",
    "df_encoded = df_encoded.drop(categorical_columns2, axis=1)\n",
    "\n",
    "df_encoded = one_hot_df\n"
   ]
  },
  {
   "cell_type": "code",
   "execution_count": null,
   "metadata": {},
   "outputs": [],
   "source": [
    "#CORRELATION HEATMAP\n",
    "corr_matrix = df_encoded.corr()\n",
    "#additional filtering to make the data more readable.\n",
    " \n",
    "high_corr = corr_matrix[corr_matrix > 0.5]\n",
    "high_corr = corr_matrix[corr_matrix < -0.5]\n",
    "\n",
    "heatmap = sns.heatmap(high_corr, vmin=-1, vmax=1, annot=True)\n",
    "heatmap.set_title('Correlation Heatmap', fontdict={'fontsize':12}, pad=12)\n",
    "plt.figure(figsize=(20, 20))\n",
    "plt.show()"
   ]
  },
  {
   "cell_type": "code",
   "execution_count": 29,
   "metadata": {},
   "outputs": [
    {
     "name": "stdout",
     "output_type": "stream",
     "text": [
      "                              Feature_1  \\\n",
      "330                          Sex_Female   \n",
      "167               Laguerre_coeffs_ch2_7   \n",
      "258               Laguerre_coeffs_ch3_7   \n",
      "239               Laguerre_coeffs_ch3_5   \n",
      "146               Laguerre_coeffs_ch2_5   \n",
      "..                                  ...   \n",
      "284              Laguerre_coeffs_ch3_10   \n",
      "214              Laguerre_coeffs_ch2_12   \n",
      "103              Laguerre_coeffs_ch1_11   \n",
      "358                    Tob_label_Former   \n",
      "338  HighestDiagnosisLevel_LG Dysplasia   \n",
      "\n",
      "                                  Feature_2  Correlation  \n",
      "330                                Sex_Male    -1.000000  \n",
      "167                   Laguerre_coeffs_ch2_9     0.985841  \n",
      "258                   Laguerre_coeffs_ch3_9     0.981855  \n",
      "239                   Laguerre_coeffs_ch3_7     0.981495  \n",
      "146                   Laguerre_coeffs_ch2_7     0.979072  \n",
      "..                                      ...          ...  \n",
      "284                   Laguerre_coeffs_ch3_9     0.695583  \n",
      "214                   Laguerre_coeffs_ch2_9     0.695308  \n",
      "103                   Laguerre_coeffs_ch1_3     0.691543  \n",
      "358  TobaccoUse_Reformed Smoker <= 15 Years     0.689576  \n",
      "338              NumberOfInvolvedLymphNodes     0.684799  \n",
      "\n",
      "[100 rows x 3 columns]\n"
     ]
    }
   ],
   "source": [
    "#Numerical codes:\n",
    "threshold = 0.5\n",
    "significant_corrs = corr_matrix[(corr_matrix.abs() >= threshold) & (corr_matrix.abs() < 1.0)]\n",
    "\n",
    "correlation_pairs = significant_corrs.unstack().dropna().reset_index()\n",
    "correlation_pairs.columns = ['Feature_1', 'Feature_2', 'Correlation']\n",
    "\n",
    "# Filter out lower/upper triangular duplicates\n",
    "correlation_pairs = correlation_pairs.loc[correlation_pairs['Feature_1'] < correlation_pairs['Feature_2']]\n",
    "\n",
    "\n",
    "correlation_pairs = correlation_pairs.sort_values(by='Correlation', key=abs, ascending=False)\n",
    "\n",
    "# Display the top correlations\n",
    "print(correlation_pairs.head(100))  # Adjust the number to display as needed\n",
    "\n",
    "#laguerre coeffs"
   ]
  }
 ],
 "metadata": {
  "kernelspec": {
   "display_name": "marcu",
   "language": "python",
   "name": "python3"
  },
  "language_info": {
   "codemirror_mode": {
    "name": "ipython",
    "version": 3
   },
   "file_extension": ".py",
   "mimetype": "text/x-python",
   "name": "python",
   "nbconvert_exporter": "python",
   "pygments_lexer": "ipython3",
   "version": "3.9.21"
  }
 },
 "nbformat": 4,
 "nbformat_minor": 2
}
